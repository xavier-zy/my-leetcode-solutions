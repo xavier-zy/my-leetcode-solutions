{
 "cells": [
  {
   "cell_type": "markdown",
   "metadata": {},
   "source": [
    "# Solution 1"
   ]
  },
  {
   "cell_type": "code",
   "execution_count": 53,
   "metadata": {},
   "outputs": [],
   "source": [
    "nums = [1,2,4,8,16,32,64,128]\n",
    "target = 82"
   ]
  },
  {
   "cell_type": "code",
   "execution_count": 62,
   "metadata": {},
   "outputs": [
    {
     "name": "stdout",
     "output_type": "stream",
     "text": [
      "[1, 2, 4, 8, 16, 32, 64, 128]\n",
      "82\n",
      "82\n",
      "82\n",
      "82\n",
      "82\n",
      "s is  82\n"
     ]
    }
   ],
   "source": [
    "s = nums[0] + nums[1] + nums[2] \n",
    "nums.sort()\n",
    "print nums\n",
    "\n",
    "for i in xrange(len(nums)-2):\n",
    "    l, r = i+1, len(nums)-1\n",
    "    while l < r:\n",
    "        temp = (nums[i] + nums[l] + nums[r])\n",
    "        if s == target:\n",
    "            print target\n",
    "            break\n",
    "        if (abs(s - target) > abs(temp - target)):\n",
    "            s = temp\n",
    "        else:  \n",
    "            if temp < target:\n",
    "                l = l + 1\n",
    "            elif temp > target:\n",
    "                r = r - 1\n",
    "            \n",
    "print \"s is \", s"
   ]
  },
  {
   "cell_type": "code",
   "execution_count": null,
   "metadata": {
    "collapsed": true
   },
   "outputs": [],
   "source": []
  }
 ],
 "metadata": {
  "kernelspec": {
   "display_name": "Python 2",
   "language": "python",
   "name": "python2"
  },
  "language_info": {
   "codemirror_mode": {
    "name": "ipython",
    "version": 2
   },
   "file_extension": ".py",
   "mimetype": "text/x-python",
   "name": "python",
   "nbconvert_exporter": "python",
   "pygments_lexer": "ipython2",
   "version": "2.7.13"
  }
 },
 "nbformat": 4,
 "nbformat_minor": 2
}
