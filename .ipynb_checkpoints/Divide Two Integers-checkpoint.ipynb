{
 "cells": [
  {
   "cell_type": "markdown",
   "metadata": {},
   "source": [
    "# Solution1"
   ]
  },
  {
   "cell_type": "code",
   "execution_count": 95,
   "metadata": {
    "collapsed": true
   },
   "outputs": [],
   "source": [
    "    def divide(dividend, divisor):\n",
    "        \n",
    "        a = abs(dividend)\n",
    "        b = abs(divisor)\n",
    "        add = b\n",
    "        \n",
    "        if (a == 0) or (a < b): \n",
    "            return 0\n",
    "        \n",
    "        if (divisor == 1):\n",
    "            return dividend\n",
    "        if (divisor == -1):\n",
    "            if -dividend == 2147483648:\n",
    "                return -dividend - 1\n",
    "            return -dividend\n",
    "    \n",
    "        n = 0\n",
    "        while a >= b:\n",
    "            b = b + add\n",
    "            n = n + 1\n",
    "#             print \"b and n are: \", b, n\n",
    "            \n",
    "        if (dividend > 0 and divisor < 0) or (dividend < 0 and divisor > 0):\n",
    "            n = -n\n",
    "        \n",
    "        if n == 2147483648:\n",
    "            n = n - 1\n",
    "            \n",
    "        return n"
   ]
  },
  {
   "cell_type": "code",
   "execution_count": 96,
   "metadata": {},
   "outputs": [
    {
     "data": {
      "text/plain": [
       "21474"
      ]
     },
     "execution_count": 96,
     "metadata": {},
     "output_type": "execute_result"
    }
   ],
   "source": [
    "divide(2147483647, 2)"
   ]
  },
  {
   "cell_type": "code",
   "execution_count": null,
   "metadata": {
    "collapsed": true
   },
   "outputs": [],
   "source": []
  },
  {
   "cell_type": "code",
   "execution_count": null,
   "metadata": {
    "collapsed": true
   },
   "outputs": [],
   "source": []
  },
  {
   "cell_type": "code",
   "execution_count": 10,
   "metadata": {
    "collapsed": true
   },
   "outputs": [],
   "source": [
    "a = 2147483647\n",
    "b = 2\n",
    "add = b"
   ]
  },
  {
   "cell_type": "code",
   "execution_count": 11,
   "metadata": {
    "collapsed": true
   },
   "outputs": [],
   "source": [
    "astr = str(a)\n",
    "ali = []\n",
    "for i in astr:\n",
    "    ali.append(int(i))"
   ]
  },
  {
   "cell_type": "code",
   "execution_count": 12,
   "metadata": {},
   "outputs": [
    {
     "data": {
      "text/plain": [
       "[2, 1, 4, 7, 4, 8, 3, 6, 4, 7]"
      ]
     },
     "execution_count": 12,
     "metadata": {},
     "output_type": "execute_result"
    }
   ],
   "source": [
    "ali"
   ]
  },
  {
   "cell_type": "markdown",
   "metadata": {},
   "source": [
    "### May be the answer"
   ]
  },
  {
   "cell_type": "code",
   "execution_count": 13,
   "metadata": {},
   "outputs": [
    {
     "name": "stdout",
     "output_type": "stream",
     "text": [
      "1\n",
      "14\n",
      "7\n",
      "14\n",
      "8\n",
      "3\n",
      "16\n",
      "4\n",
      "7\n"
     ]
    }
   ],
   "source": [
    "result = []\n",
    "for i in xrange(len(ali)):\n",
    "    n = 0\n",
    "    while ali[i] >= b:\n",
    "        ali[i] = ali[i] - b\n",
    "        n = n + 1\n",
    "    \n",
    "    if ( i < len(ali)-1 ):\n",
    "        ali[i+1] = ali[i] * 10 + ali[i+1]\n",
    "        print ali[i+1]\n",
    "    result.append(n)"
   ]
  },
  {
   "cell_type": "code",
   "execution_count": 14,
   "metadata": {},
   "outputs": [
    {
     "data": {
      "text/plain": [
       "[1, 0, 7, 3, 7, 4, 1, 8, 2, 3]"
      ]
     },
     "execution_count": 14,
     "metadata": {},
     "output_type": "execute_result"
    }
   ],
   "source": [
    "result"
   ]
  },
  {
   "cell_type": "code",
   "execution_count": 17,
   "metadata": {},
   "outputs": [
    {
     "name": "stdout",
     "output_type": "stream",
     "text": [
      "1073741823\n"
     ]
    }
   ],
   "source": [
    "final = \"\"\n",
    "for i in result:\n",
    "    final = final + str(i)\n",
    "print int(final)"
   ]
  },
  {
   "cell_type": "code",
   "execution_count": null,
   "metadata": {
    "collapsed": true
   },
   "outputs": [],
   "source": []
  }
 ],
 "metadata": {
  "kernelspec": {
   "display_name": "Python 2",
   "language": "python",
   "name": "python2"
  },
  "language_info": {
   "codemirror_mode": {
    "name": "ipython",
    "version": 2
   },
   "file_extension": ".py",
   "mimetype": "text/x-python",
   "name": "python",
   "nbconvert_exporter": "python",
   "pygments_lexer": "ipython2",
   "version": "2.7.13"
  }
 },
 "nbformat": 4,
 "nbformat_minor": 2
}
