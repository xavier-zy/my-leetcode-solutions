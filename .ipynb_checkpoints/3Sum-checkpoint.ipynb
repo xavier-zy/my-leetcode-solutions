{
 "cells": [
  {
   "cell_type": "markdown",
   "metadata": {},
   "source": [
    "# Solution1 OVERTIME"
   ]
  },
  {
   "cell_type": "code",
   "execution_count": 1,
   "metadata": {
    "collapsed": true
   },
   "outputs": [],
   "source": [
    "S = [-1,-2,-3,4,1,3,0,3,-2,1,-2,2,-1,1,-5,4,-3]"
   ]
  },
  {
   "cell_type": "code",
   "execution_count": 2,
   "metadata": {
    "collapsed": true
   },
   "outputs": [],
   "source": [
    "S.sort()"
   ]
  },
  {
   "cell_type": "code",
   "execution_count": 3,
   "metadata": {
    "collapsed": true
   },
   "outputs": [],
   "source": [
    "results = []\n",
    "num = len(S)\n",
    "if (num < 3): print None\n",
    "if (S[0] > 0 or S[-1] < 0): print None\n",
    "if (set(S) == {0}): results = [[0, 0, 0]]"
   ]
  },
  {
   "cell_type": "code",
   "execution_count": 4,
   "metadata": {},
   "outputs": [
    {
     "name": "stdout",
     "output_type": "stream",
     "text": [
      "[-5, -3, -3, -2, -2, -2, -1, -1, 0]\n",
      "[1, 1, 1, 2, 3, 3, 4, 4]\n"
     ]
    }
   ],
   "source": [
    "neg = []\n",
    "pos = []\n",
    "for i in S:\n",
    "    if i <= 0:\n",
    "        neg.append(i)\n",
    "    else: \n",
    "        pos.append(i)\n",
    "\n",
    "print neg\n",
    "print pos"
   ]
  },
  {
   "cell_type": "code",
   "execution_count": 5,
   "metadata": {},
   "outputs": [
    {
     "name": "stdout",
     "output_type": "stream",
     "text": [
      "[[-5, 1, 4], [-5, 2, 3], [-3, 1, 2], [-3, 0, 3], [-3, -1, 4], [-2, 1, 1], [-2, 0, 2], [-2, -1, 3], [-2, -2, 4], [-1, 0, 1], [-1, -1, 2]]\n"
     ]
    }
   ],
   "source": [
    "ele = []\n",
    "if neg.count(0) >= 3: results.append([0, 0, 0])\n",
    "for n in neg:\n",
    "    for p in pos:\n",
    "        np = n + p\n",
    "        if np < 0:\n",
    "            pos.remove(p)\n",
    "            if -np in pos:\n",
    "                ele = [n, p, -np]\n",
    "                ele.sort()\n",
    "#                 print ele\n",
    "                if ele not in results:\n",
    "                    results.append(ele)\n",
    "#             else:\n",
    "#                 results.append([])\n",
    "            pos.append(p)\n",
    "            pos.sort()\n",
    "        else:\n",
    "            neg.remove(n)\n",
    "            if -np in neg:\n",
    "                ele = [n, p, -np]\n",
    "                ele.sort()\n",
    "#                 print ele\n",
    "                if ele not in results:\n",
    "                    results.append(ele)\n",
    "#             else:\n",
    "#                 results.append([])  \n",
    "            neg.append(n)\n",
    "            neg.sort()\n",
    "            \n",
    "\n",
    "print results"
   ]
  },
  {
   "cell_type": "markdown",
   "metadata": {
    "collapsed": true
   },
   "source": [
    "# Solution2"
   ]
  },
  {
   "cell_type": "code",
   "execution_count": 9,
   "metadata": {
    "collapsed": true
   },
   "outputs": [],
   "source": [
    "nums = [-1, 0, 1, 2, -1, -4]"
   ]
  },
  {
   "cell_type": "code",
   "execution_count": 21,
   "metadata": {},
   "outputs": [
    {
     "name": "stdout",
     "output_type": "stream",
     "text": [
      "[-4, -1, -1, 0, 1, 2]\n",
      "[(-1, -1, 2), (-1, 0, 1), (-1, 0, 1)]\n"
     ]
    }
   ],
   "source": [
    "    res = []\n",
    "    nums.sort()\n",
    "    print nums\n",
    "    for i in xrange(len(nums)-2):\n",
    "        if i > 0 and nums[i] == nums[i-1]:\n",
    "            print \"in IF and i is {}\".format(i)\n",
    "            continue\n",
    "        l, r = i+1, len(nums)-1\n",
    "#         print \"l is {}\".format(l)\n",
    "#         print \"  r is {}\".format(r)\n",
    "        while l < r:\n",
    "            s = nums[i] + nums[l] + nums[r]\n",
    "#             print \"Sum s is {}\".format(s)\n",
    "            if s < 0:\n",
    "                l +=1 \n",
    "            elif s > 0:\n",
    "                r -= 1\n",
    "            else:\n",
    "                res.append((nums[i], nums[l], nums[r]))\n",
    "                while l < r and nums[l] == nums[l+1]:\n",
    "                    l += 1\n",
    "                while l < r and nums[r] == nums[r-1]:\n",
    "                    r -= 1\n",
    "                l += 1; r -= 1\n",
    "    print res"
   ]
  },
  {
   "cell_type": "code",
   "execution_count": null,
   "metadata": {
    "collapsed": true
   },
   "outputs": [],
   "source": []
  }
 ],
 "metadata": {
  "kernelspec": {
   "display_name": "Python 2",
   "language": "python",
   "name": "python2"
  },
  "language_info": {
   "codemirror_mode": {
    "name": "ipython",
    "version": 2
   },
   "file_extension": ".py",
   "mimetype": "text/x-python",
   "name": "python",
   "nbconvert_exporter": "python",
   "pygments_lexer": "ipython2",
   "version": "2.7.13"
  }
 },
 "nbformat": 4,
 "nbformat_minor": 2
}
