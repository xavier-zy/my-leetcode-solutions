{
 "cells": [
  {
   "cell_type": "code",
   "execution_count": 132,
   "metadata": {},
   "outputs": [
    {
     "name": "stdout",
     "output_type": "stream",
     "text": [
      "[1, 2, 3]\n",
      "[4, 5, 6]\n",
      "[7, 8, 9]\n"
     ]
    }
   ],
   "source": [
    "a = [[1,2,3], [4,5,6], [7,8,9]]\n",
    "for i in a: print i "
   ]
  },
  {
   "cell_type": "code",
   "execution_count": 133,
   "metadata": {
    "collapsed": true
   },
   "outputs": [],
   "source": [
    "m = len(a)"
   ]
  },
  {
   "cell_type": "code",
   "execution_count": 134,
   "metadata": {},
   "outputs": [
    {
     "name": "stdout",
     "output_type": "stream",
     "text": [
      "0 0\n",
      "2 0\n",
      "1 7\n",
      "should switch\n",
      "[7, 2, 3]\n",
      "[4, 5, 6]\n",
      "[1, 8, 9]\n",
      "\n",
      "0 1\n",
      "1 0\n",
      "2 4\n",
      "should switch\n",
      "[7, 4, 3]\n",
      "[2, 5, 6]\n",
      "[1, 8, 9]\n",
      "\n",
      "0 2\n",
      "0 0\n",
      "3 7\n",
      "should switch\n",
      "[3, 4, 7]\n",
      "[2, 5, 6]\n",
      "[1, 8, 9]\n",
      "\n",
      "1 0\n",
      "2 1\n",
      "2 8\n",
      "[3, 4, 7]\n",
      "[8, 5, 6]\n",
      "[1, 2, 9]\n",
      "\n",
      "1 1\n",
      "1 1\n",
      "5 5\n",
      "should switch\n",
      "[3, 4, 7]\n",
      "[8, 5, 6]\n",
      "[1, 2, 9]\n",
      "\n",
      "1 2\n",
      "0 1\n",
      "6 4\n",
      "should switch\n",
      "[3, 6, 7]\n",
      "[8, 5, 4]\n",
      "[1, 2, 9]\n",
      "\n",
      "2 0\n",
      "2 2\n",
      "1 9\n",
      "[3, 6, 7]\n",
      "[8, 5, 4]\n",
      "[9, 2, 1]\n",
      "\n",
      "2 1\n",
      "1 2\n",
      "2 4\n",
      "[3, 6, 7]\n",
      "[8, 5, 2]\n",
      "[9, 4, 1]\n",
      "\n",
      "2 2\n",
      "0 2\n",
      "1 7\n",
      "should switch\n",
      "[3, 6, 1]\n",
      "[8, 5, 2]\n",
      "[9, 4, 7]\n",
      "\n"
     ]
    }
   ],
   "source": [
    "for i in xrange(m):\n",
    "    for j in xrange(m):\n",
    "        print i , j\n",
    "        print m - 1 - j , i\n",
    "        print a[i][j], a[m - 1 - j][i]\n",
    "        if j >= i:\n",
    "            print \"should switch\"\n",
    "        a[i][j], a[m - 1 - j][i] = a[m - 1 - j][i], a[i][j]\n",
    "        for li in a: print li\n",
    "        print \"\""
   ]
  },
  {
   "cell_type": "code",
   "execution_count": null,
   "metadata": {
    "collapsed": true
   },
   "outputs": [],
   "source": []
  }
 ],
 "metadata": {
  "kernelspec": {
   "display_name": "Python 2",
   "language": "python",
   "name": "python2"
  },
  "language_info": {
   "codemirror_mode": {
    "name": "ipython",
    "version": 2
   },
   "file_extension": ".py",
   "mimetype": "text/x-python",
   "name": "python",
   "nbconvert_exporter": "python",
   "pygments_lexer": "ipython2",
   "version": "2.7.13"
  }
 },
 "nbformat": 4,
 "nbformat_minor": 2
}
