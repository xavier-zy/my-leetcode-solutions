{
 "cells": [
  {
   "cell_type": "markdown",
   "metadata": {},
   "source": [
    "# Solution 1  \n",
    "### Time Limit Exceeded "
   ]
  },
  {
   "cell_type": "code",
   "execution_count": 8,
   "metadata": {
    "collapsed": true
   },
   "outputs": [],
   "source": [
    "strs = [\"nozzle\",\"punjabi\",\"waterlogged\",\"imprison\",\n",
    "        \"crux\",\"numismatists\",\"sultans\",\"rambles\",\"deprecating\",\"aware\",\n",
    "        \"outfield\",\"marlborough\",\"guardrooms\",\"roast\",\"wattage\",\"shortcuts\"]"
   ]
  },
  {
   "cell_type": "code",
   "execution_count": 45,
   "metadata": {
    "collapsed": true
   },
   "outputs": [],
   "source": [
    "def isEqual(str1, str2):\n",
    "    i = 0\n",
    "    if len(str1) == len(str2):\n",
    "        while i < len(str1):\n",
    "            if str1.count(str1[i]) == str2.count(str1[i]):\n",
    "                i = i + 1\n",
    "            else:\n",
    "                return False\n",
    "        return True\n",
    "    else:\n",
    "        return False\n",
    "    \n",
    "#     if sorted(str1) == sorted(str2): return True\n",
    "#     else: return False"
   ]
  },
  {
   "cell_type": "code",
   "execution_count": 46,
   "metadata": {},
   "outputs": [
    {
     "name": "stdout",
     "output_type": "stream",
     "text": [
      "False\n"
     ]
    }
   ],
   "source": [
    "print isEqual('tea', '')"
   ]
  },
  {
   "cell_type": "code",
   "execution_count": 47,
   "metadata": {},
   "outputs": [
    {
     "name": "stdout",
     "output_type": "stream",
     "text": [
      "[['nozzle'], ['punjabi'], ['waterlogged'], ['imprison'], ['crux'], ['numismatists'], ['sultans'], ['rambles'], ['deprecating'], ['aware'], ['outfield'], ['marlborough'], ['guardrooms'], ['roast'], ['wattage'], ['shortcuts']]\n"
     ]
    }
   ],
   "source": [
    "result = []\n",
    "res = []\n",
    "res.append(strs[0])\n",
    "result.append(res)\n",
    "\n",
    "for i in range(1, len(strs)):\n",
    "    for li in result:\n",
    "        if isEqual(strs[i], li[0]):\n",
    "            li.append(strs[i])\n",
    "            break\n",
    "    else:\n",
    "            result.append([strs[i]])\n",
    "        \n",
    "print result"
   ]
  },
  {
   "cell_type": "markdown",
   "metadata": {
    "collapsed": true
   },
   "source": [
    "# Solution2"
   ]
  },
  {
   "cell_type": "code",
   "execution_count": 24,
   "metadata": {
    "collapsed": true
   },
   "outputs": [],
   "source": [
    "strs = [\"nozzle\",\"punjabi\",\"waterlogged\",\"imprison\",\n",
    "        \"crux\",\"numismatists\",\"sultans\",\"rambles\",\"deprecating\",\"aware\",\n",
    "        \"outfield\",\"marlborough\",\"guardrooms\",\"roast\",\"wattage\",\"shortcuts\"]"
   ]
  },
  {
   "cell_type": "code",
   "execution_count": 34,
   "metadata": {},
   "outputs": [],
   "source": [
    "ans = collections.defaultdict(list)\n",
    "for s in strs:\n",
    "    ans[tuple(sorted(s))].append(s)"
   ]
  },
  {
   "cell_type": "code",
   "execution_count": 48,
   "metadata": {},
   "outputs": [
    {
     "name": "stdout",
     "output_type": "stream",
     "text": [
      "[['marlborough'], ['guardrooms'], ['wattage'], ['sultans'], ['rambles'], ['shortcuts'], ['nozzle'], ['deprecating'], ['punjabi'], ['imprison'], ['aware'], ['roast'], ['waterlogged'], ['numismatists'], ['outfield'], ['crux']]\n"
     ]
    }
   ],
   "source": [
    "print ans.values()"
   ]
  },
  {
   "cell_type": "markdown",
   "metadata": {},
   "source": [
    "# Solution3"
   ]
  },
  {
   "cell_type": "code",
   "execution_count": 67,
   "metadata": {
    "collapsed": true
   },
   "outputs": [],
   "source": [
    "strs = [\"eat\",\"tea\",\"tan\",\"ate\",\"nat\",\"bat\"]"
   ]
  },
  {
   "cell_type": "code",
   "execution_count": 71,
   "metadata": {},
   "outputs": [
    {
     "name": "stdout",
     "output_type": "stream",
     "text": [
      "Counter({'a': 1, 'e': 1, 't': 1})\n",
      "Counter({'a': 1, 'e': 1, 't': 1})\n",
      "Counter({'a': 1, 't': 1, 'n': 1})\n",
      "Counter({'a': 1, 'e': 1, 't': 1})\n",
      "Counter({'a': 1, 't': 1, 'n': 1})\n",
      "Counter({'a': 1, 'b': 1, 't': 1})\n"
     ]
    }
   ],
   "source": [
    "ans = collections.defaultdict(list)\n",
    "for s in strs:\n",
    "    cnt = [0] * 26\n",
    "    for i in s:\n",
    "        cnt[ord(i) ]\n",
    "    ans[tuple(cnts.values())].append(s)"
   ]
  },
  {
   "cell_type": "code",
   "execution_count": 70,
   "metadata": {},
   "outputs": [
    {
     "name": "stdout",
     "output_type": "stream",
     "text": [
      "(1, 1, 1) ['eat', 'tea', 'tan', 'ate', 'nat', 'bat']\n"
     ]
    }
   ],
   "source": [
    "for i in ans:\n",
    "    print i, ans[i]"
   ]
  },
  {
   "cell_type": "code",
   "execution_count": 69,
   "metadata": {},
   "outputs": [
    {
     "name": "stdout",
     "output_type": "stream",
     "text": [
      "[['eat', 'tea', 'tan', 'ate', 'nat', 'bat']]\n"
     ]
    }
   ],
   "source": [
    "print ans.values()"
   ]
  },
  {
   "cell_type": "code",
   "execution_count": 73,
   "metadata": {},
   "outputs": [],
   "source": [
    "cnt = xrange(26)"
   ]
  },
  {
   "cell_type": "code",
   "execution_count": 75,
   "metadata": {},
   "outputs": [],
   "source": [
    "cnt = [0] * 26"
   ]
  },
  {
   "cell_type": "code",
   "execution_count": 76,
   "metadata": {},
   "outputs": [
    {
     "data": {
      "text/plain": [
       "[0, 0, 0, 0, 0, 0, 0, 0, 0, 0, 0, 0, 0, 0, 0, 0, 0, 0, 0, 0, 0, 0, 0, 0, 0, 0]"
      ]
     },
     "execution_count": 76,
     "metadata": {},
     "output_type": "execute_result"
    }
   ],
   "source": [
    "cnt"
   ]
  },
  {
   "cell_type": "code",
   "execution_count": null,
   "metadata": {
    "collapsed": true
   },
   "outputs": [],
   "source": []
  }
 ],
 "metadata": {
  "kernelspec": {
   "display_name": "Python 2",
   "language": "python",
   "name": "python2"
  },
  "language_info": {
   "codemirror_mode": {
    "name": "ipython",
    "version": 2
   },
   "file_extension": ".py",
   "mimetype": "text/x-python",
   "name": "python",
   "nbconvert_exporter": "python",
   "pygments_lexer": "ipython2",
   "version": "2.7.13"
  }
 },
 "nbformat": 4,
 "nbformat_minor": 2
}
