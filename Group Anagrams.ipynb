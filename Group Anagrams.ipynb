{
 "cells": [
  {
   "cell_type": "markdown",
   "metadata": {},
   "source": [
    "# Solution 1  \n",
    "### Time Limit Exceeded "
   ]
  },
  {
   "cell_type": "code",
   "execution_count": 8,
   "metadata": {
    "collapsed": true
   },
   "outputs": [],
   "source": [
    "strs = [\"nozzle\",\"punjabi\",\"waterlogged\",\"imprison\",\n",
    "        \"crux\",\"numismatists\",\"sultans\",\"rambles\",\"deprecating\",\"aware\",\n",
    "        \"outfield\",\"marlborough\",\"guardrooms\",\"roast\",\"wattage\",\"shortcuts\"]"
   ]
  },
  {
   "cell_type": "code",
   "execution_count": 45,
   "metadata": {
    "collapsed": true
   },
   "outputs": [],
   "source": [
    "def isEqual(str1, str2):\n",
    "    i = 0\n",
    "    if len(str1) == len(str2):\n",
    "        while i < len(str1):\n",
    "            if str1.count(str1[i]) == str2.count(str1[i]):\n",
    "                i = i + 1\n",
    "            else:\n",
    "                return False\n",
    "        return True\n",
    "    else:\n",
    "        return False\n",
    "    \n",
    "#     if sorted(str1) == sorted(str2): return True\n",
    "#     else: return False"
   ]
  },
  {
   "cell_type": "code",
   "execution_count": 46,
   "metadata": {},
   "outputs": [
    {
     "name": "stdout",
     "output_type": "stream",
     "text": [
      "False\n"
     ]
    }
   ],
   "source": [
    "print isEqual('tea', '')"
   ]
  },
  {
   "cell_type": "code",
   "execution_count": 47,
   "metadata": {},
   "outputs": [
    {
     "name": "stdout",
     "output_type": "stream",
     "text": [
      "[['nozzle'], ['punjabi'], ['waterlogged'], ['imprison'], ['crux'], ['numismatists'], ['sultans'], ['rambles'], ['deprecating'], ['aware'], ['outfield'], ['marlborough'], ['guardrooms'], ['roast'], ['wattage'], ['shortcuts']]\n"
     ]
    }
   ],
   "source": [
    "result = []\n",
    "res = []\n",
    "res.append(strs[0])\n",
    "result.append(res)\n",
    "\n",
    "for i in range(1, len(strs)):\n",
    "    for li in result:\n",
    "        if isEqual(strs[i], li[0]):\n",
    "            li.append(strs[i])\n",
    "            break\n",
    "    else:\n",
    "            result.append([strs[i]])\n",
    "        \n",
    "print result"
   ]
  },
  {
   "cell_type": "markdown",
   "metadata": {
    "collapsed": true
   },
   "source": [
    "# Solution2"
   ]
  },
  {
   "cell_type": "code",
   "execution_count": 24,
   "metadata": {
    "collapsed": true
   },
   "outputs": [],
   "source": [
    "strs = [\"nozzle\",\"punjabi\",\"waterlogged\",\"imprison\",\n",
    "        \"crux\",\"numismatists\",\"sultans\",\"rambles\",\"deprecating\",\"aware\",\n",
    "        \"outfield\",\"marlborough\",\"guardrooms\",\"roast\",\"wattage\",\"shortcuts\"]"
   ]
  },
  {
   "cell_type": "code",
   "execution_count": 34,
   "metadata": {},
   "outputs": [],
   "source": [
    "ans = collections.defaultdict(list)\n",
    "for s in strs:\n",
    "    ans[tuple(sorted(s))].append(s)"
   ]
  },
  {
   "cell_type": "code",
   "execution_count": 48,
   "metadata": {},
   "outputs": [
    {
     "name": "stdout",
     "output_type": "stream",
     "text": [
      "[['marlborough'], ['guardrooms'], ['wattage'], ['sultans'], ['rambles'], ['shortcuts'], ['nozzle'], ['deprecating'], ['punjabi'], ['imprison'], ['aware'], ['roast'], ['waterlogged'], ['numismatists'], ['outfield'], ['crux']]\n"
     ]
    }
   ],
   "source": [
    "print ans.values()"
   ]
  },
  {
   "cell_type": "markdown",
   "metadata": {},
   "source": [
    "# Solution3"
   ]
  },
  {
   "cell_type": "code",
   "execution_count": 83,
   "metadata": {
    "collapsed": true
   },
   "outputs": [],
   "source": [
    "strs = [\"aba\", \"aab\", \"baa\", \"abbccc\"]"
   ]
  },
  {
   "cell_type": "code",
   "execution_count": 84,
   "metadata": {},
   "outputs": [],
   "source": [
    "ans = collections.defaultdict(list)\n",
    "for s in strs:\n",
    "    cnt = [0] * 26\n",
    "    for i in s:\n",
    "        cnt[ord(i) - ord(\"a\")] += 1 \n",
    "    ans[tuple(cnt)].append(s)"
   ]
  },
  {
   "cell_type": "code",
   "execution_count": 85,
   "metadata": {},
   "outputs": [
    {
     "name": "stdout",
     "output_type": "stream",
     "text": [
      "(1, 2, 3, 0, 0, 0, 0, 0, 0, 0, 0, 0, 0, 0, 0, 0, 0, 0, 0, 0, 0, 0, 0, 0, 0, 0) ['abbccc']\n",
      "(2, 1, 0, 0, 0, 0, 0, 0, 0, 0, 0, 0, 0, 0, 0, 0, 0, 0, 0, 0, 0, 0, 0, 0, 0, 0) ['aba', 'aab', 'baa']\n"
     ]
    }
   ],
   "source": [
    "for i in ans:\n",
    "    print i, ans[i]"
   ]
  },
  {
   "cell_type": "code",
   "execution_count": 86,
   "metadata": {},
   "outputs": [
    {
     "name": "stdout",
     "output_type": "stream",
     "text": [
      "[['abbccc'], ['aba', 'aab', 'baa']]\n"
     ]
    }
   ],
   "source": [
    "print ans.values()"
   ]
  },
  {
   "cell_type": "code",
   "execution_count": null,
   "metadata": {
    "collapsed": true
   },
   "outputs": [],
   "source": []
  }
 ],
 "metadata": {
  "kernelspec": {
   "display_name": "Python 2",
   "language": "python",
   "name": "python2"
  },
  "language_info": {
   "codemirror_mode": {
    "name": "ipython",
    "version": 2
   },
   "file_extension": ".py",
   "mimetype": "text/x-python",
   "name": "python",
   "nbconvert_exporter": "python",
   "pygments_lexer": "ipython2",
   "version": "2.7.13"
  }
 },
 "nbformat": 4,
 "nbformat_minor": 2
}
