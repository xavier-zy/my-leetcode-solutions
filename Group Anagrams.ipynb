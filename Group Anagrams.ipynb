{
 "cells": [
  {
   "cell_type": "markdown",
   "metadata": {},
   "source": [
    "# Solution 1  \n",
    "### Time Limit Exceeded "
   ]
  },
  {
   "cell_type": "code",
   "execution_count": 139,
   "metadata": {
    "collapsed": true
   },
   "outputs": [],
   "source": [
    "strs = [\"nozzle\",\"punjabi\",\"waterlogged\",\"imprison\",\n",
    "        \"crux\",\"numismatists\",\"sultans\",\"rambles\",\"deprecating\",\"aware\",\n",
    "        \"outfield\",\"marlborough\",\"guardrooms\",\"roast\",\"wattage\",\"shortcuts\"]"
   ]
  },
  {
   "cell_type": "code",
   "execution_count": 129,
   "metadata": {},
   "outputs": [],
   "source": [
    "def isEqual(str1, str2):\n",
    "    i = 0\n",
    "    if len(str1) == len(str2):\n",
    "        while i < len(str1):\n",
    "            if str1.count(str1[i]) == str2.count(str1[i]):\n",
    "                i = i + 1\n",
    "            else:\n",
    "                return False\n",
    "        return True\n",
    "    else:\n",
    "        return False"
   ]
  },
  {
   "cell_type": "code",
   "execution_count": 77,
   "metadata": {},
   "outputs": [
    {
     "name": "stdout",
     "output_type": "stream",
     "text": [
      "False\n"
     ]
    }
   ],
   "source": [
    "print isEqual('tea', '')"
   ]
  },
  {
   "cell_type": "code",
   "execution_count": 140,
   "metadata": {},
   "outputs": [
    {
     "name": "stdout",
     "output_type": "stream",
     "text": [
      "[['nozzle'], ['punjabi'], ['waterlogged'], ['imprison'], ['crux'], ['numismatists'], ['sultans'], ['rambles'], ['deprecating'], ['aware'], ['outfield'], ['marlborough'], ['guardrooms'], ['roast'], ['wattage'], ['shortcuts']]\n"
     ]
    }
   ],
   "source": [
    "result = []\n",
    "res = []\n",
    "res.append(strs[0])\n",
    "result.append(res)\n",
    "\n",
    "for i in range(1, len(strs)):\n",
    "    for li in result:\n",
    "        if isEqual(strs[i], li[0]):\n",
    "            li.append(strs[i])\n",
    "            break\n",
    "    else:\n",
    "            result.append([strs[i]])\n",
    "        \n",
    "print result"
   ]
  },
  {
   "cell_type": "code",
   "execution_count": null,
   "metadata": {
    "collapsed": true
   },
   "outputs": [],
   "source": []
  }
 ],
 "metadata": {
  "kernelspec": {
   "display_name": "Python 2",
   "language": "python",
   "name": "python2"
  },
  "language_info": {
   "codemirror_mode": {
    "name": "ipython",
    "version": 2
   },
   "file_extension": ".py",
   "mimetype": "text/x-python",
   "name": "python",
   "nbconvert_exporter": "python",
   "pygments_lexer": "ipython2",
   "version": "2.7.13"
  }
 },
 "nbformat": 4,
 "nbformat_minor": 2
}
