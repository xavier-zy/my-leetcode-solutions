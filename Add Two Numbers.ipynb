{
 "cells": [
  {
   "cell_type": "code",
   "execution_count": 3,
   "metadata": {},
   "outputs": [],
   "source": [
    "# Definition for singly-linked list.\n",
    "class ListNode(object):\n",
    "    def __init__(self, x):\n",
    "        self.val = x\n",
    "        self.next = None\n",
    "\n",
    "class Solution(object):\n",
    "    def addTwoNumbers(self, l1, l2):\n",
    "        \"\"\"\n",
    "        :type l1: ListNode\n",
    "        :type l2: ListNode\n",
    "        :rtype: ListNode\n",
    "        \"\"\""
   ]
  },
  {
   "cell_type": "code",
   "execution_count": 255,
   "metadata": {
    "collapsed": true
   },
   "outputs": [],
   "source": [
    "l1 = ListNode(2)\n",
    "ln2 = ListNode(2)\n",
    "ln3 = ListNode(3)\n",
    "l1.next = ln2\n",
    "ln2.next = ln3"
   ]
  },
  {
   "cell_type": "code",
   "execution_count": 256,
   "metadata": {},
   "outputs": [],
   "source": [
    "l2 = ListNode(5)\n",
    "ln22 = ListNode(6)\n",
    "l2.next = ln22"
   ]
  },
  {
   "cell_type": "code",
   "execution_count": 257,
   "metadata": {},
   "outputs": [],
   "source": [
    "if (l1 == None and l2 == None): l3 = ListNode()\n",
    "elif (l1 == None and l2): l3 =  ListNode(l2.val)\n",
    "elif (l2 == None and l1): l3 = ListNode(l1.val)\n",
    "else: l3 = ListNode(l1.val + l2.val)"
   ]
  },
  {
   "cell_type": "code",
   "execution_count": 247,
   "metadata": {},
   "outputs": [],
   "source": [
    "add = 0\n",
    "if (l3.val >= 10):\n",
    "    l3.val = l3.val - 10\n",
    "    add = 1\n",
    "\n",
    "lfinal = l3\n",
    "flag = True\n",
    "\n",
    "while flag:\n",
    "    ll = ListNode(0)\n",
    "    if (l1.next or l2.next):\n",
    "        if (l1.next == None): \n",
    "            ll.val = l2.next.val\n",
    "            l2 = l2.next\n",
    "            if (ll.val >= 10):\n",
    "                ll.val = ll.val - 10 + add\n",
    "                add = 1\n",
    "                l3.next = ll\n",
    "            else:\n",
    "                add = 0\n",
    "                l3.next = ll\n",
    "        elif (l2.next == None): \n",
    "            ll.val = l1.next.val\n",
    "            l1 = l1.next\n",
    "            if (ll.val >= 10):\n",
    "                ll.val = ll.val - 10 + add\n",
    "                add = 1\n",
    "                l3.next = ll\n",
    "            else:\n",
    "                add = 0\n",
    "                l3.next = ll\n",
    "        else:\n",
    "            ll.val = l1.next.val + l2.next.val + add\n",
    "            l1 = l1.next\n",
    "            l2 = l2.next\n",
    "\n",
    "            if (ll.val >= 10):\n",
    "                ll.val = ll.val - 10\n",
    "                add = 1\n",
    "                l3.next = ll\n",
    "    #             print \"if ll.val\", ll.val\n",
    "    #             print l3.val\n",
    "            else:\n",
    "                add = 0\n",
    "                l3.next = ll\n",
    "    #             print \"else ll.val\", ll.val\n",
    "    #             print l3.val\n",
    "        l3 = l3.next\n",
    "    else:\n",
    "        flag = False\n",
    "#         print \"two\"\n",
    "# print l3.val\n",
    "if (add == 1): l3.next = ListNode(1)"
   ]
  },
  {
   "cell_type": "code",
   "execution_count": 248,
   "metadata": {},
   "outputs": [
    {
     "data": {
      "text/plain": [
       "<__main__.ListNode at 0x10aa4c790>"
      ]
     },
     "execution_count": 248,
     "metadata": {},
     "output_type": "execute_result"
    }
   ],
   "source": [
    "lfinal"
   ]
  },
  {
   "cell_type": "code",
   "execution_count": 249,
   "metadata": {},
   "outputs": [
    {
     "data": {
      "text/plain": [
       "7"
      ]
     },
     "execution_count": 249,
     "metadata": {},
     "output_type": "execute_result"
    }
   ],
   "source": [
    "lfinal.val"
   ]
  },
  {
   "cell_type": "code",
   "execution_count": 250,
   "metadata": {},
   "outputs": [
    {
     "data": {
      "text/plain": [
       "8"
      ]
     },
     "execution_count": 250,
     "metadata": {},
     "output_type": "execute_result"
    }
   ],
   "source": [
    "lfinal.next.val"
   ]
  },
  {
   "cell_type": "code",
   "execution_count": 251,
   "metadata": {},
   "outputs": [
    {
     "data": {
      "text/plain": [
       "3"
      ]
     },
     "execution_count": 251,
     "metadata": {},
     "output_type": "execute_result"
    }
   ],
   "source": [
    "lfinal.next.next.val"
   ]
  },
  {
   "cell_type": "markdown",
   "metadata": {},
   "source": [
    "# Solution 2"
   ]
  },
  {
   "cell_type": "code",
   "execution_count": 258,
   "metadata": {
    "collapsed": true
   },
   "outputs": [],
   "source": [
    "def remai(self,val):\n",
    "    if val>=10:\n",
    "        return val%10\n",
    "    else:\n",
    "        return val "
   ]
  },
  {
   "cell_type": "code",
   "execution_count": 259,
   "metadata": {
    "collapsed": true
   },
   "outputs": [],
   "source": [
    "def addTwoNumbers(self, l1, l2):\n",
    "    src1=l1\n",
    "    src2=l2\n",
    "    res=temp=ListNode((src1.val+src2.val)%10)\n",
    "    \n",
    "    count=int((src1.val+src2.val)/10)\n",
    "    print count\n",
    "    \n",
    "    while(src1.next or src2.next or count!=0):\n",
    "        src1=src1.next or ListNode(0)\n",
    "        src2=src2.next or ListNode(0)\n",
    "        \n",
    "        temp.next=ListNode(self.remai((src1.val+src2.val)%10+count))\n",
    "        temp=temp.next\n",
    "        \n",
    "        count=int((src1.val+src2.val+count)/10)\n",
    "    return res"
   ]
  },
  {
   "cell_type": "code",
   "execution_count": 301,
   "metadata": {},
   "outputs": [
    {
     "name": "stdout",
     "output_type": "stream",
     "text": [
      "10\n",
      "9\n",
      "8\n",
      "7\n",
      "6\n",
      "5\n",
      "4\n",
      "3\n",
      "2\n",
      "1\n"
     ]
    }
   ],
   "source": [
    "a = 10\n",
    "b = 20\n",
    "while (a > 0 or b > 10):\n",
    "    l = a or b\n",
    "    print l\n",
    "    a=a-1\n",
    "    b=b-1"
   ]
  },
  {
   "cell_type": "code",
   "execution_count": 303,
   "metadata": {},
   "outputs": [
    {
     "data": {
      "text/plain": [
       "1"
      ]
     },
     "execution_count": 303,
     "metadata": {},
     "output_type": "execute_result"
    }
   ],
   "source": [
    "c = 1\n",
    "a == b or c"
   ]
  },
  {
   "cell_type": "code",
   "execution_count": 304,
   "metadata": {
    "collapsed": true
   },
   "outputs": [],
   "source": [
    "a=b=c"
   ]
  },
  {
   "cell_type": "code",
   "execution_count": 305,
   "metadata": {},
   "outputs": [
    {
     "data": {
      "text/plain": [
       "1"
      ]
     },
     "execution_count": 305,
     "metadata": {},
     "output_type": "execute_result"
    }
   ],
   "source": [
    "a"
   ]
  },
  {
   "cell_type": "code",
   "execution_count": 306,
   "metadata": {},
   "outputs": [
    {
     "data": {
      "text/plain": [
       "1"
      ]
     },
     "execution_count": 306,
     "metadata": {},
     "output_type": "execute_result"
    }
   ],
   "source": [
    "b"
   ]
  },
  {
   "cell_type": "code",
   "execution_count": null,
   "metadata": {
    "collapsed": true
   },
   "outputs": [],
   "source": []
  },
  {
   "cell_type": "code",
   "execution_count": null,
   "metadata": {
    "collapsed": true
   },
   "outputs": [],
   "source": []
  }
 ],
 "metadata": {
  "kernelspec": {
   "display_name": "Python 2",
   "language": "python",
   "name": "python2"
  },
  "language_info": {
   "codemirror_mode": {
    "name": "ipython",
    "version": 2
   },
   "file_extension": ".py",
   "mimetype": "text/x-python",
   "name": "python",
   "nbconvert_exporter": "python",
   "pygments_lexer": "ipython2",
   "version": "2.7.13"
  }
 },
 "nbformat": 4,
 "nbformat_minor": 2
}
