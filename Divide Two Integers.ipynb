{
 "cells": [
  {
   "cell_type": "markdown",
   "metadata": {},
   "source": [
    "# Solution1"
   ]
  },
  {
   "cell_type": "code",
   "execution_count": 31,
   "metadata": {
    "collapsed": true
   },
   "outputs": [],
   "source": [
    "def divide(dividend, divisor):\n",
    "    a = abs(dividend)\n",
    "    b = abs(divisor)\n",
    "    add = b\n",
    "        \n",
    "    astr = str(a)\n",
    "    ali = []\n",
    "    for i in astr:\n",
    "        ali.append(int(i))\n",
    "            \n",
    "    result = []\n",
    "    for i in xrange(len(ali)):\n",
    "        n = 0\n",
    "        while ali[i] >= b:\n",
    "            ali[i] = ali[i] - b\n",
    "            n = n + 1\n",
    "\n",
    "        if ( i < len(ali)-1 ):\n",
    "            ali[i+1] = ali[i] * 10 + ali[i+1]\n",
    "            print ali[i+1]\n",
    "        result.append(n)\n",
    "            \n",
    "    final = \"\"\n",
    "    for i in result:\n",
    "        final = final + str(i)\n",
    "            \n",
    "    n = int(final)\n",
    "\n",
    "\n",
    "    if (dividend > 0 and divisor < 0) or (dividend < 0 and divisor > 0):\n",
    "        n = -n\n",
    "        \n",
    "    if (n >= 2147483648): n = 2147483647\n",
    "    if (n < -2147483648): n = -2147483648\n",
    "            \n",
    "    return n"
   ]
  },
  {
   "cell_type": "code",
   "execution_count": 32,
   "metadata": {},
   "outputs": [
    {
     "name": "stdout",
     "output_type": "stream",
     "text": [
      "1\n",
      "4\n",
      "7\n",
      "4\n",
      "8\n",
      "3\n",
      "6\n",
      "4\n",
      "8\n"
     ]
    },
    {
     "data": {
      "text/plain": [
       "-2147483648"
      ]
     },
     "execution_count": 32,
     "metadata": {},
     "output_type": "execute_result"
    }
   ],
   "source": [
    "divide(-2147483648, 1)"
   ]
  },
  {
   "cell_type": "markdown",
   "metadata": {
    "collapsed": true
   },
   "source": [
    "# Solution 2"
   ]
  },
  {
   "cell_type": "code",
   "execution_count": 31,
   "metadata": {
    "collapsed": true
   },
   "outputs": [],
   "source": [
    "def divide(dividend, divisor):\n",
    "    flag = ((dividend<0 and divisor >0) or (dividend>0 and divisor <0));\n",
    "    print flag\n",
    "    \n",
    "    ret=0;   \n",
    "    \n",
    "    a, b = abs(dividend), abs(divisor);\n",
    "    c, sub = 1, b;\n",
    "    \n",
    "    print a, b, c, sub\n",
    "\n",
    "    while(a >= b):\n",
    "#         print sub, c\n",
    "        if(a >= sub):\n",
    "            a -= sub;\n",
    "            ret += c;\n",
    "            sub = (sub<<1);\n",
    "            c = (c<<1);\n",
    "        else:\n",
    "            sub = (sub>>1);\n",
    "            c = (c>>1);\n",
    "        \n",
    "    if(flag):\n",
    "        ret = -ret;\n",
    "    return min(max(-2147483648,ret),2147483647);"
   ]
  },
  {
   "cell_type": "code",
   "execution_count": 33,
   "metadata": {},
   "outputs": [
    {
     "name": "stdout",
     "output_type": "stream",
     "text": [
      "False\n",
      "2147483648 1 1 1\n",
      "1 1\n",
      "2 2\n",
      "4 4\n",
      "8 8\n",
      "16 16\n",
      "32 32\n",
      "64 64\n",
      "128 128\n",
      "256 256\n",
      "512 512\n",
      "1024 1024\n",
      "2048 2048\n",
      "4096 4096\n",
      "8192 8192\n",
      "16384 16384\n",
      "32768 32768\n",
      "65536 65536\n",
      "131072 131072\n",
      "262144 262144\n",
      "524288 524288\n",
      "1048576 1048576\n",
      "2097152 2097152\n",
      "4194304 4194304\n",
      "8388608 8388608\n",
      "16777216 16777216\n",
      "33554432 33554432\n",
      "67108864 67108864\n",
      "134217728 134217728\n",
      "268435456 268435456\n",
      "536870912 536870912\n",
      "1073741824 1073741824\n",
      "2147483648 2147483648\n",
      "1073741824 1073741824\n",
      "536870912 536870912\n",
      "268435456 268435456\n",
      "134217728 134217728\n",
      "67108864 67108864\n",
      "33554432 33554432\n",
      "16777216 16777216\n",
      "8388608 8388608\n",
      "4194304 4194304\n",
      "2097152 2097152\n",
      "1048576 1048576\n",
      "524288 524288\n",
      "262144 262144\n",
      "131072 131072\n",
      "65536 65536\n",
      "32768 32768\n",
      "16384 16384\n",
      "8192 8192\n",
      "4096 4096\n",
      "2048 2048\n",
      "1024 1024\n",
      "512 512\n",
      "256 256\n",
      "128 128\n",
      "64 64\n",
      "32 32\n",
      "16 16\n",
      "8 8\n",
      "4 4\n",
      "2 2\n",
      "1 1\n"
     ]
    },
    {
     "data": {
      "text/plain": [
       "2147483647"
      ]
     },
     "execution_count": 33,
     "metadata": {},
     "output_type": "execute_result"
    }
   ],
   "source": [
    "divide(-2147483648 , -1)"
   ]
  },
  {
   "cell_type": "code",
   "execution_count": null,
   "metadata": {
    "collapsed": true
   },
   "outputs": [],
   "source": []
  }
 ],
 "metadata": {
  "kernelspec": {
   "display_name": "Python 2",
   "language": "python",
   "name": "python2"
  },
  "language_info": {
   "codemirror_mode": {
    "name": "ipython",
    "version": 2
   },
   "file_extension": ".py",
   "mimetype": "text/x-python",
   "name": "python",
   "nbconvert_exporter": "python",
   "pygments_lexer": "ipython2",
   "version": "2.7.13"
  }
 },
 "nbformat": 4,
 "nbformat_minor": 2
}
