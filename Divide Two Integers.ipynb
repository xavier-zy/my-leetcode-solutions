{
 "cells": [
  {
   "cell_type": "markdown",
   "metadata": {},
   "source": [
    "# Solution1"
   ]
  },
  {
   "cell_type": "code",
   "execution_count": 29,
   "metadata": {
    "collapsed": true
   },
   "outputs": [],
   "source": [
    "def divide(dividend, divisor):\n",
    "    a = abs(dividend)\n",
    "    b = abs(divisor)\n",
    "    add = b\n",
    "        \n",
    "    astr = str(a)\n",
    "        ali = []\n",
    "        for i in astr:\n",
    "            ali.append(int(i))\n",
    "            \n",
    "        result = []\n",
    "        for i in xrange(len(ali)):\n",
    "            n = 0\n",
    "            while ali[i] >= b:\n",
    "                ali[i] = ali[i] - b\n",
    "                n = n + 1\n",
    "\n",
    "            if ( i < len(ali)-1 ):\n",
    "                ali[i+1] = ali[i] * 10 + ali[i+1]\n",
    "                print ali[i+1]\n",
    "            result.append(n)\n",
    "            \n",
    "        final = \"\"\n",
    "        for i in result:\n",
    "            final = final + str(i)\n",
    "            \n",
    "        n = int(final)\n",
    "\n",
    "\n",
    "        if (dividend > 0 and divisor < 0) or (dividend < 0 and divisor > 0):\n",
    "            n = -n\n",
    "        \n",
    "        if (n >= 2147483648): n = 2147483647\n",
    "        if (n < -2147483648): n = -2147483648\n",
    "            \n",
    "        return n"
   ]
  },
  {
   "cell_type": "code",
   "execution_count": 30,
   "metadata": {},
   "outputs": [
    {
     "name": "stdout",
     "output_type": "stream",
     "text": [
      "1\n",
      "4\n",
      "7\n",
      "4\n",
      "8\n",
      "3\n",
      "6\n",
      "4\n",
      "8\n"
     ]
    },
    {
     "data": {
      "text/plain": [
       "-2147483648"
      ]
     },
     "execution_count": 30,
     "metadata": {},
     "output_type": "execute_result"
    }
   ],
   "source": [
    "divide(-2147483648, 1)"
   ]
  }
 ],
 "metadata": {
  "kernelspec": {
   "display_name": "Python 2",
   "language": "python",
   "name": "python2"
  },
  "language_info": {
   "codemirror_mode": {
    "name": "ipython",
    "version": 2
   },
   "file_extension": ".py",
   "mimetype": "text/x-python",
   "name": "python",
   "nbconvert_exporter": "python",
   "pygments_lexer": "ipython2",
   "version": "2.7.13"
  }
 },
 "nbformat": 4,
 "nbformat_minor": 2
}
