{
 "cells": [
  {
   "cell_type": "markdown",
   "metadata": {},
   "source": [
    "# Solution1 OVERTIME"
   ]
  },
  {
   "cell_type": "code",
   "execution_count": 180,
   "metadata": {
    "collapsed": true
   },
   "outputs": [],
   "source": [
    "S = [-1,-2,-3,4,1,3,0,3,-2,1,-2,2,-1,1,-5,4,-3]"
   ]
  },
  {
   "cell_type": "code",
   "execution_count": 181,
   "metadata": {},
   "outputs": [],
   "source": [
    "S.sort()"
   ]
  },
  {
   "cell_type": "code",
   "execution_count": 182,
   "metadata": {},
   "outputs": [],
   "source": [
    "results = []\n",
    "num = len(S)\n",
    "if (num < 3): print None\n",
    "if (S[0] > 0 or S[-1] < 0): print None\n",
    "if (set(S) == {0}): results = [[0, 0, 0]]"
   ]
  },
  {
   "cell_type": "code",
   "execution_count": 185,
   "metadata": {},
   "outputs": [
    {
     "name": "stdout",
     "output_type": "stream",
     "text": [
      "[-5, -3, -3, -2, -2, -2, -1, -1, 0]\n",
      "[1, 1, 1, 2, 3, 3, 4, 4]\n"
     ]
    }
   ],
   "source": [
    "neg = []\n",
    "pos = []\n",
    "for i in S:\n",
    "    if i <= 0:\n",
    "        neg.append(i)\n",
    "    else: \n",
    "        pos.append(i)\n",
    "\n",
    "print neg\n",
    "print pos"
   ]
  },
  {
   "cell_type": "code",
   "execution_count": 186,
   "metadata": {},
   "outputs": [
    {
     "name": "stdout",
     "output_type": "stream",
     "text": [
      "[-5, 1, 4]\n",
      "[-5, 1, 4]\n",
      "[-5, 1, 4]\n",
      "[-5, 2, 3]\n",
      "[-5, 2, 3]\n",
      "[-5, 2, 3]\n",
      "[-5, 1, 4]\n",
      "[-5, 1, 4]\n",
      "[-3, 1, 2]\n",
      "[-3, 1, 2]\n",
      "[-3, 1, 2]\n",
      "[-3, 1, 2]\n",
      "[-3, 0, 3]\n",
      "[-3, 0, 3]\n",
      "[-3, -1, 4]\n",
      "[-3, -1, 4]\n",
      "[-3, 1, 2]\n",
      "[-3, 1, 2]\n",
      "[-3, 1, 2]\n",
      "[-3, 1, 2]\n",
      "[-3, 0, 3]\n",
      "[-3, 0, 3]\n",
      "[-3, -1, 4]\n",
      "[-3, -1, 4]\n",
      "[-2, 1, 1]\n",
      "[-2, 1, 1]\n",
      "[-2, 1, 1]\n",
      "[-2, 0, 2]\n",
      "[-2, -1, 3]\n",
      "[-2, -1, 3]\n",
      "[-2, -2, 4]\n",
      "[-2, -2, 4]\n",
      "[-2, 1, 1]\n",
      "[-2, 1, 1]\n",
      "[-2, 1, 1]\n",
      "[-2, 0, 2]\n",
      "[-2, -1, 3]\n",
      "[-2, -1, 3]\n",
      "[-2, -2, 4]\n",
      "[-2, -2, 4]\n",
      "[-2, 1, 1]\n",
      "[-2, 1, 1]\n",
      "[-2, 1, 1]\n",
      "[-2, 0, 2]\n",
      "[-2, -1, 3]\n",
      "[-2, -1, 3]\n",
      "[-2, -2, 4]\n",
      "[-2, -2, 4]\n",
      "[-1, 0, 1]\n",
      "[-1, 0, 1]\n",
      "[-1, 0, 1]\n",
      "[-1, -1, 2]\n",
      "[-2, -1, 3]\n",
      "[-2, -1, 3]\n",
      "[-3, -1, 4]\n",
      "[-3, -1, 4]\n",
      "[-1, 0, 1]\n",
      "[-1, 0, 1]\n",
      "[-1, 0, 1]\n",
      "[-1, -1, 2]\n",
      "[-2, -1, 3]\n",
      "[-2, -1, 3]\n",
      "[-3, -1, 4]\n",
      "[-3, -1, 4]\n",
      "[-1, 0, 1]\n",
      "[-1, 0, 1]\n",
      "[-1, 0, 1]\n",
      "[-2, 0, 2]\n",
      "[-3, 0, 3]\n",
      "[-3, 0, 3]\n",
      "[[-5, 1, 4], [-5, 2, 3], [-3, 1, 2], [-3, 0, 3], [-3, -1, 4], [-2, -2, 4], [-2, -1, 3], [-2, 1, 1], [-2, 0, 2], [-1, 0, 1], [-1, -1, 2]]\n"
     ]
    }
   ],
   "source": [
    "ele = []\n",
    "if neg.count(0) >= 3: results.append([0, 0, 0])\n",
    "for n in neg:\n",
    "    for p in pos:\n",
    "        np = n + p\n",
    "        if np < 0:\n",
    "            pos.remove(p)\n",
    "            if -np in pos:\n",
    "                ele = [n, p, -np]\n",
    "                ele.sort()\n",
    "#                 print ele\n",
    "                if ele not in results:\n",
    "                    results.append(ele)\n",
    "#             else:\n",
    "#                 results.append([])\n",
    "            pos.append(p)\n",
    "            pos.sort()\n",
    "        else:\n",
    "            neg.remove(n)\n",
    "            if -np in neg:\n",
    "                ele = [n, p, -np]\n",
    "                ele.sort()\n",
    "#                 print ele\n",
    "                if ele not in results:\n",
    "                    results.append(ele)\n",
    "#             else:\n",
    "#                 results.append([])  \n",
    "            neg.append(n)\n",
    "            neg.sort()\n",
    "            \n",
    "\n",
    "print results"
   ]
  },
  {
   "cell_type": "code",
   "execution_count": null,
   "metadata": {
    "collapsed": true
   },
   "outputs": [],
   "source": []
  }
 ],
 "metadata": {
  "kernelspec": {
   "display_name": "Python 2",
   "language": "python",
   "name": "python2"
  },
  "language_info": {
   "codemirror_mode": {
    "name": "ipython",
    "version": 2
   },
   "file_extension": ".py",
   "mimetype": "text/x-python",
   "name": "python",
   "nbconvert_exporter": "python",
   "pygments_lexer": "ipython2",
   "version": "2.7.13"
  }
 },
 "nbformat": 4,
 "nbformat_minor": 2
}
