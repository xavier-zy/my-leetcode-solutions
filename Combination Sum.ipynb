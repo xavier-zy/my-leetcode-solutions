{
 "cells": [
  {
   "cell_type": "code",
   "execution_count": 1,
   "metadata": {
    "collapsed": true
   },
   "outputs": [],
   "source": [
    "candidate = [2, 4, 3, 6, 7] \n",
    "target = 8"
   ]
  },
  {
   "cell_type": "code",
   "execution_count": 2,
   "metadata": {
    "collapsed": true
   },
   "outputs": [],
   "source": [
    "nums = list(sorted(candidate))\n",
    "li = []"
   ]
  },
  {
   "cell_type": "code",
   "execution_count": 3,
   "metadata": {},
   "outputs": [
    {
     "data": {
      "text/plain": [
       "[2, 3, 4, 6, 7]"
      ]
     },
     "execution_count": 3,
     "metadata": {},
     "output_type": "execute_result"
    }
   ],
   "source": [
    "nums"
   ]
  },
  {
   "cell_type": "code",
   "execution_count": 4,
   "metadata": {},
   "outputs": [
    {
     "data": {
      "text/plain": [
       "[2, 3, 4, 6, 7]"
      ]
     },
     "execution_count": 4,
     "metadata": {},
     "output_type": "execute_result"
    }
   ],
   "source": [
    "for i in xrange(len(nums)):\n",
    "    if nums[i] <= target:\n",
    "        li.append(nums[i])\n",
    "\n",
    "li"
   ]
  },
  {
   "cell_type": "code",
   "execution_count": 14,
   "metadata": {
    "collapsed": true
   },
   "outputs": [],
   "source": [
    "class Solution(object):\n",
    "    def combinationSum(self, candidates, target):\n",
    "        res = []\n",
    "        candidates.sort()\n",
    "        self.dfs(candidates, target, 0, [], res)\n",
    "        return res\n",
    "\n",
    "    def dfs(self, nums, target, index, path, res):\n",
    "        print nums, target, index, path, res\n",
    "        if target < 0:\n",
    "            return  # backtracking\n",
    "        if target == 0:\n",
    "            res.append(path)\n",
    "            return \n",
    "        for i in xrange(index, len(nums)):\n",
    "            self.dfs(nums, target-nums[i], i, path+[nums[i]], res)"
   ]
  },
  {
   "cell_type": "code",
   "execution_count": 15,
   "metadata": {
    "collapsed": true
   },
   "outputs": [],
   "source": [
    "sol = Solution()"
   ]
  },
  {
   "cell_type": "code",
   "execution_count": 16,
   "metadata": {},
   "outputs": [
    {
     "name": "stdout",
     "output_type": "stream",
     "text": [
      "nums, target, index, path, res\n",
      "[2, 3, 4, 6, 7] 8 0 [] []\n",
      "[2, 3, 4, 6, 7] 6 0 [2] []\n",
      "[2, 3, 4, 6, 7] 4 0 [2, 2] []\n",
      "[2, 3, 4, 6, 7] 2 0 [2, 2, 2] []\n",
      "[2, 3, 4, 6, 7] 0 0 [2, 2, 2, 2] []\n",
      "[2, 3, 4, 6, 7] -1 1 [2, 2, 2, 3] [[2, 2, 2, 2]]\n",
      "[2, 3, 4, 6, 7] -2 2 [2, 2, 2, 4] [[2, 2, 2, 2]]\n",
      "[2, 3, 4, 6, 7] -4 3 [2, 2, 2, 6] [[2, 2, 2, 2]]\n",
      "[2, 3, 4, 6, 7] -5 4 [2, 2, 2, 7] [[2, 2, 2, 2]]\n",
      "[2, 3, 4, 6, 7] 1 1 [2, 2, 3] [[2, 2, 2, 2]]\n",
      "[2, 3, 4, 6, 7] -2 1 [2, 2, 3, 3] [[2, 2, 2, 2]]\n",
      "[2, 3, 4, 6, 7] -3 2 [2, 2, 3, 4] [[2, 2, 2, 2]]\n",
      "[2, 3, 4, 6, 7] -5 3 [2, 2, 3, 6] [[2, 2, 2, 2]]\n",
      "[2, 3, 4, 6, 7] -6 4 [2, 2, 3, 7] [[2, 2, 2, 2]]\n",
      "[2, 3, 4, 6, 7] 0 2 [2, 2, 4] [[2, 2, 2, 2]]\n",
      "[2, 3, 4, 6, 7] -2 3 [2, 2, 6] [[2, 2, 2, 2], [2, 2, 4]]\n",
      "[2, 3, 4, 6, 7] -3 4 [2, 2, 7] [[2, 2, 2, 2], [2, 2, 4]]\n",
      "[2, 3, 4, 6, 7] 3 1 [2, 3] [[2, 2, 2, 2], [2, 2, 4]]\n",
      "[2, 3, 4, 6, 7] 0 1 [2, 3, 3] [[2, 2, 2, 2], [2, 2, 4]]\n",
      "[2, 3, 4, 6, 7] -1 2 [2, 3, 4] [[2, 2, 2, 2], [2, 2, 4], [2, 3, 3]]\n",
      "[2, 3, 4, 6, 7] -3 3 [2, 3, 6] [[2, 2, 2, 2], [2, 2, 4], [2, 3, 3]]\n",
      "[2, 3, 4, 6, 7] -4 4 [2, 3, 7] [[2, 2, 2, 2], [2, 2, 4], [2, 3, 3]]\n",
      "[2, 3, 4, 6, 7] 2 2 [2, 4] [[2, 2, 2, 2], [2, 2, 4], [2, 3, 3]]\n",
      "[2, 3, 4, 6, 7] -2 2 [2, 4, 4] [[2, 2, 2, 2], [2, 2, 4], [2, 3, 3]]\n",
      "[2, 3, 4, 6, 7] -4 3 [2, 4, 6] [[2, 2, 2, 2], [2, 2, 4], [2, 3, 3]]\n",
      "[2, 3, 4, 6, 7] -5 4 [2, 4, 7] [[2, 2, 2, 2], [2, 2, 4], [2, 3, 3]]\n",
      "[2, 3, 4, 6, 7] 0 3 [2, 6] [[2, 2, 2, 2], [2, 2, 4], [2, 3, 3]]\n",
      "[2, 3, 4, 6, 7] -1 4 [2, 7] [[2, 2, 2, 2], [2, 2, 4], [2, 3, 3], [2, 6]]\n",
      "[2, 3, 4, 6, 7] 5 1 [3] [[2, 2, 2, 2], [2, 2, 4], [2, 3, 3], [2, 6]]\n",
      "[2, 3, 4, 6, 7] 2 1 [3, 3] [[2, 2, 2, 2], [2, 2, 4], [2, 3, 3], [2, 6]]\n",
      "[2, 3, 4, 6, 7] -1 1 [3, 3, 3] [[2, 2, 2, 2], [2, 2, 4], [2, 3, 3], [2, 6]]\n",
      "[2, 3, 4, 6, 7] -2 2 [3, 3, 4] [[2, 2, 2, 2], [2, 2, 4], [2, 3, 3], [2, 6]]\n",
      "[2, 3, 4, 6, 7] -4 3 [3, 3, 6] [[2, 2, 2, 2], [2, 2, 4], [2, 3, 3], [2, 6]]\n",
      "[2, 3, 4, 6, 7] -5 4 [3, 3, 7] [[2, 2, 2, 2], [2, 2, 4], [2, 3, 3], [2, 6]]\n",
      "[2, 3, 4, 6, 7] 1 2 [3, 4] [[2, 2, 2, 2], [2, 2, 4], [2, 3, 3], [2, 6]]\n",
      "[2, 3, 4, 6, 7] -3 2 [3, 4, 4] [[2, 2, 2, 2], [2, 2, 4], [2, 3, 3], [2, 6]]\n",
      "[2, 3, 4, 6, 7] -5 3 [3, 4, 6] [[2, 2, 2, 2], [2, 2, 4], [2, 3, 3], [2, 6]]\n",
      "[2, 3, 4, 6, 7] -6 4 [3, 4, 7] [[2, 2, 2, 2], [2, 2, 4], [2, 3, 3], [2, 6]]\n",
      "[2, 3, 4, 6, 7] -1 3 [3, 6] [[2, 2, 2, 2], [2, 2, 4], [2, 3, 3], [2, 6]]\n",
      "[2, 3, 4, 6, 7] -2 4 [3, 7] [[2, 2, 2, 2], [2, 2, 4], [2, 3, 3], [2, 6]]\n",
      "[2, 3, 4, 6, 7] 4 2 [4] [[2, 2, 2, 2], [2, 2, 4], [2, 3, 3], [2, 6]]\n",
      "[2, 3, 4, 6, 7] 0 2 [4, 4] [[2, 2, 2, 2], [2, 2, 4], [2, 3, 3], [2, 6]]\n",
      "[2, 3, 4, 6, 7] -2 3 [4, 6] [[2, 2, 2, 2], [2, 2, 4], [2, 3, 3], [2, 6], [4, 4]]\n",
      "[2, 3, 4, 6, 7] -3 4 [4, 7] [[2, 2, 2, 2], [2, 2, 4], [2, 3, 3], [2, 6], [4, 4]]\n",
      "[2, 3, 4, 6, 7] 2 3 [6] [[2, 2, 2, 2], [2, 2, 4], [2, 3, 3], [2, 6], [4, 4]]\n",
      "[2, 3, 4, 6, 7] -4 3 [6, 6] [[2, 2, 2, 2], [2, 2, 4], [2, 3, 3], [2, 6], [4, 4]]\n",
      "[2, 3, 4, 6, 7] -5 4 [6, 7] [[2, 2, 2, 2], [2, 2, 4], [2, 3, 3], [2, 6], [4, 4]]\n",
      "[2, 3, 4, 6, 7] 1 4 [7] [[2, 2, 2, 2], [2, 2, 4], [2, 3, 3], [2, 6], [4, 4]]\n",
      "[2, 3, 4, 6, 7] -6 4 [7, 7] [[2, 2, 2, 2], [2, 2, 4], [2, 3, 3], [2, 6], [4, 4]]\n"
     ]
    },
    {
     "data": {
      "text/plain": [
       "[[2, 2, 2, 2], [2, 2, 4], [2, 3, 3], [2, 6], [4, 4]]"
      ]
     },
     "execution_count": 16,
     "metadata": {},
     "output_type": "execute_result"
    }
   ],
   "source": [
    "print \"nums, target, index, path, res\"\n",
    "sol.combinationSum(nums, 8)"
   ]
  },
  {
   "cell_type": "code",
   "execution_count": null,
   "metadata": {
    "collapsed": true
   },
   "outputs": [],
   "source": []
  }
 ],
 "metadata": {
  "kernelspec": {
   "display_name": "Python 2",
   "language": "python",
   "name": "python2"
  },
  "language_info": {
   "codemirror_mode": {
    "name": "ipython",
    "version": 2
   },
   "file_extension": ".py",
   "mimetype": "text/x-python",
   "name": "python",
   "nbconvert_exporter": "python",
   "pygments_lexer": "ipython2",
   "version": "2.7.13"
  }
 },
 "nbformat": 4,
 "nbformat_minor": 2
}
