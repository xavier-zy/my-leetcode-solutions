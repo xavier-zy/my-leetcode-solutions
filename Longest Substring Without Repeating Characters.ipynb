{
 "cells": [
  {
   "cell_type": "markdown",
   "metadata": {},
   "source": [
    "# Solution1"
   ]
  },
  {
   "cell_type": "code",
   "execution_count": null,
   "metadata": {
    "collapsed": true
   },
   "outputs": [],
   "source": [
    "class Solution(object):\n",
    "    def lengthOfLongestSubstring(self, s):\n",
    "        if (len(s) == 0) : return 0\n",
    "        if (len(s) == 1) : return 1\n",
    "        \n",
    "        string = []\n",
    "        for i in s:\n",
    "            string.append(i)\n",
    "        \n",
    "        lens = []\n",
    "        length = len(string)\n",
    "        \n",
    "        window = []\n",
    "        window.append(string[0])\n",
    "        i = 0\n",
    "        while (len(window) + i < length):\n",
    "            window2 = list(set(window))\n",
    "\n",
    "            while (len(window2) < len(window)):\n",
    "                i = i + 1\n",
    "                window.pop()\n",
    "                window = string[i: i+len(window)]\n",
    "                window2 = list(set(window))\n",
    "                lens.append(len(window2))\n",
    "          \n",
    "            window.append(string[len(window) + i])\n",
    "            window2 = list(set(window))\n",
    "            lens.append(len(window2))\n",
    "\n",
    "        window2 = list(set(window))\n",
    "        lens.append(len(window2))\n",
    "\n",
    "        return max(lens) "
   ]
  },
  {
   "cell_type": "markdown",
   "metadata": {
    "collapsed": true
   },
   "source": [
    "# Solution2"
   ]
  },
  {
   "cell_type": "code",
   "execution_count": 23,
   "metadata": {
    "collapsed": true
   },
   "outputs": [],
   "source": [
    "s = \"pweekew\""
   ]
  },
  {
   "cell_type": "code",
   "execution_count": 24,
   "metadata": {
    "collapsed": true
   },
   "outputs": [],
   "source": [
    "i = 0\n",
    "j = 0"
   ]
  },
  {
   "cell_type": "code",
   "execution_count": 25,
   "metadata": {},
   "outputs": [
    {
     "name": "stdout",
     "output_type": "stream",
     "text": [
      "{'p': 0}\n",
      "00\n",
      "{'p': 0, 'w': 1}\n",
      "10\n",
      "{'p': 0, 'e': 2, 'w': 1}\n",
      "20\n",
      "{'p': 0, 'e': 3, 'w': 1}\n",
      "33\n",
      "{'p': 0, 'k': 4, 'e': 3, 'w': 1}\n",
      "43\n",
      "{'p': 0, 'k': 4, 'e': 5, 'w': 1}\n",
      "54\n",
      "{'p': 0, 'k': 4, 'e': 5, 'w': 6}\n",
      "64\n",
      "3\n"
     ]
    }
   ],
   "source": [
    "ln = len(s)\n",
    "    \n",
    "max_len = 0\n",
    "    \n",
    "char_set = {}\n",
    "    \n",
    "while(j < ln):\n",
    "    if(s[j] in char_set.keys()):\n",
    "        if(i <= char_set[s[j]]):\n",
    "            i = char_set[s[j]] + 1\n",
    "    char_set[s[j]] = j\n",
    "    \n",
    "    print char_set\n",
    "    \n",
    "    temp = j - i + 1\n",
    "    print(str(j) + str(i))\n",
    "    if(max_len < temp):\n",
    "        max_len = temp\n",
    "    j += 1\n",
    "            \n",
    "print max_len"
   ]
  },
  {
   "cell_type": "code",
   "execution_count": null,
   "metadata": {
    "collapsed": true
   },
   "outputs": [],
   "source": []
  }
 ],
 "metadata": {
  "kernelspec": {
   "display_name": "Python 2",
   "language": "python",
   "name": "python2"
  },
  "language_info": {
   "codemirror_mode": {
    "name": "ipython",
    "version": 2
   },
   "file_extension": ".py",
   "mimetype": "text/x-python",
   "name": "python",
   "nbconvert_exporter": "python",
   "pygments_lexer": "ipython2",
   "version": "2.7.13"
  }
 },
 "nbformat": 4,
 "nbformat_minor": 2
}
